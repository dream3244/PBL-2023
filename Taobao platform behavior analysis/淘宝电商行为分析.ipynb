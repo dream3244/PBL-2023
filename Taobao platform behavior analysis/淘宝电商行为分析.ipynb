{
 "cells": [
  {
   "cell_type": "markdown",
   "id": "08eb7526",
   "metadata": {},
   "source": [
    "# 一、项目背景\n",
    "本数据报告以淘宝app平台为数据集，通过行业的指标对淘宝用户行为进行分析，从而探索淘宝用户的行为模式，具体指标包括：日PV和日UV分析，付费率分析，复购行为分析，漏斗流失分析和用户价值RFM分析。"
   ]
  },
  {
   "cell_type": "markdown",
   "id": "66982312",
   "metadata": {},
   "source": [
    "# 二、 source\n",
    "https://zhuanlan.zhihu.com/p/55244488"
   ]
  },
  {
   "cell_type": "markdown",
   "id": "ea8307d0",
   "metadata": {},
   "source": [
    "# 三、 goal\n",
    "1.日PV有多少\n",
    "\n",
    "2.日UV有多少\n",
    "\n",
    "3.付费率情况如何\n",
    "\n",
    "4.复购率是多少\n",
    "\n",
    "5漏斗流失情况如何\n",
    "\n",
    "6.用户价值情况"
   ]
  },
  {
   "cell_type": "markdown",
   "id": "ffe4644f",
   "metadata": {},
   "source": [
    "## 名词解释：\n",
    "### 日PV和日UV分析\n",
    "1. 播放类指标\n",
    "* VV(Video View，播放数)，是指在一个统计周期内，视频被打开的次数之和。\n",
    "* CV(Content Views，内容播放数)，是指在一个统计周期内，视频被打开，且视频正片内容（除广告）被成功播放的次数之和。由于用户在广告播放的时候流失，所以CV＜VV。\n",
    "\n",
    "2. 浏览类指标\n",
    "\n",
    "* PV(Page View，浏览量)，是指在一个统计周期内，浏览页面的数之和。\n",
    "PV的统计方式很容易理解，通常会将来自浏览器的一次HTML内容请求计算为一次PV；\n",
    "* UV(Unique Visitor，访客数)，是指在一个统计周期内，访问网站的人数之和。\n",
    "在网站分析系统中，会依据用户的浏览器、设备型号等信息，为用户分配一个编号(Cookie，若一用户换了浏览器和设备，cook\n",
    "                                     ie会随之变化)，访客数就是访问网站的Cookie数量。\n",
    "* IP（Internet Protocol）独立IP，指独立IP数。00:00-24:00内相同IP地址之被计算一次。"
   ]
  },
  {
   "cell_type": "markdown",
   "id": "a1a41f5b",
   "metadata": {},
   "source": [
    "### 复购率\n",
    "1. 按时间分\n",
    "* 绝对时间复购率：上一周期的用户在下一周期的购买客户数比例，如8月ab共100万，9月复购ab50万，则8月用户次月复购率为50%，分析时可以将上一周期的用户按照下单时的状态分层，如8月新客、8月老客等，分层的维度应该和实际运营时有差异化运营策略或人群有明显属性差异的人群维度拉齐\n",
    "* 相对时间复购率：每一群同一时点下单的用户在未来一段时间内再次下单的比例，如8月ab共100万，他们在下单后的7天内再次下单的ab20万，则8月用户7天复购率20%，分层思路同上\n",
    "2. 用户划分：\n",
    "* 老客复购率：统计周期开始前已经是平台老客的用户在未来N天或下个周期的复购\n",
    "* 新客复购率：首单发生在统计周期内的用户在未来N天或下个周期的复购\n",
    "* 分层复购率：根据业务需求进行用户个性化分层，并监控各分层用户的复购\n",
    "3. 复购率=复访率×转化率\n",
    "* 复访率影响因素：\n",
    "用户质量， 季节性， 营销召回， 促回访\n",
    "* 转化率影响因素：\n",
    "用户质量、季节性等因素，货和场，促转化玩法。\n",
    "* 复购率提升策略\n",
    "#### 电商三要素\n",
    "电商三要素人、货、场，运营的价值是根据“人”的需求，合理的创造和组合“货”和“场”的元素，其中货是用户价值述求的核心所在，也是构成场的基本元素，场是将货以高效的形式激发和满足用户需求的呈现逻辑和表现形式。\n",
    "\n",
    "https://www.woshipm.com/operate/5162535.html"
   ]
  },
  {
   "cell_type": "code",
   "execution_count": 2,
   "id": "34c88e09",
   "metadata": {},
   "outputs": [
    {
     "ename": "SyntaxError",
     "evalue": "invalid syntax (4232486044.py, line 1)",
     "output_type": "error",
     "traceback": [
      "\u001b[1;36m  Input \u001b[1;32mIn [2]\u001b[1;36m\u001b[0m\n\u001b[1;33m    2. 付费率分析\u001b[0m\n\u001b[1;37m       ^\u001b[0m\n\u001b[1;31mSyntaxError\u001b[0m\u001b[1;31m:\u001b[0m invalid syntax\n"
     ]
    }
   ],
   "source": [
    "2. 付费率分析\n",
    "3. 复购行为分析\n",
    "4. 漏斗流失分析\n",
    "5. 用户价值RFM分析。"
   ]
  },
  {
   "cell_type": "markdown",
   "id": "b428c8cc",
   "metadata": {},
   "source": [
    "# 四、数据理解"
   ]
  },
  {
   "cell_type": "code",
   "execution_count": 3,
   "id": "54c7bf1e",
   "metadata": {},
   "outputs": [],
   "source": [
    "import pandas as pd\n",
    "import numpy as np\n",
    "%matplotlib inline\n",
    "import matplotlib.pyplot as plt\n",
    "import seaborn as sns\n",
    "import warnings\n",
    "warnings.filterwarnings(\"ignore\")"
   ]
  },
  {
   "cell_type": "code",
   "execution_count": 5,
   "id": "9544d7b4",
   "metadata": {},
   "outputs": [],
   "source": [
    "data_user = pd.read_csv('C:\\\\Users\\\\86180\\\\Desktop\\\\PBL-2023\\\\project\\\\电商行为taobao\\\\tianchi_mobile_recommend_train_user.csv')"
   ]
  },
  {
   "cell_type": "code",
   "execution_count": 6,
   "id": "449c9ef1",
   "metadata": {},
   "outputs": [
    {
     "data": {
      "text/html": [
       "<div>\n",
       "<style scoped>\n",
       "    .dataframe tbody tr th:only-of-type {\n",
       "        vertical-align: middle;\n",
       "    }\n",
       "\n",
       "    .dataframe tbody tr th {\n",
       "        vertical-align: top;\n",
       "    }\n",
       "\n",
       "    .dataframe thead th {\n",
       "        text-align: right;\n",
       "    }\n",
       "</style>\n",
       "<table border=\"1\" class=\"dataframe\">\n",
       "  <thead>\n",
       "    <tr style=\"text-align: right;\">\n",
       "      <th></th>\n",
       "      <th>user_id</th>\n",
       "      <th>item_id</th>\n",
       "      <th>behavior_type</th>\n",
       "      <th>user_geohash</th>\n",
       "      <th>item_category</th>\n",
       "      <th>time</th>\n",
       "    </tr>\n",
       "  </thead>\n",
       "  <tbody>\n",
       "    <tr>\n",
       "      <th>0</th>\n",
       "      <td>98047837</td>\n",
       "      <td>232431562</td>\n",
       "      <td>1</td>\n",
       "      <td>NaN</td>\n",
       "      <td>4245</td>\n",
       "      <td>2014-12-06 02</td>\n",
       "    </tr>\n",
       "    <tr>\n",
       "      <th>1</th>\n",
       "      <td>97726136</td>\n",
       "      <td>383583590</td>\n",
       "      <td>1</td>\n",
       "      <td>NaN</td>\n",
       "      <td>5894</td>\n",
       "      <td>2014-12-09 20</td>\n",
       "    </tr>\n",
       "    <tr>\n",
       "      <th>2</th>\n",
       "      <td>98607707</td>\n",
       "      <td>64749712</td>\n",
       "      <td>1</td>\n",
       "      <td>NaN</td>\n",
       "      <td>2883</td>\n",
       "      <td>2014-12-18 11</td>\n",
       "    </tr>\n",
       "    <tr>\n",
       "      <th>3</th>\n",
       "      <td>98662432</td>\n",
       "      <td>320593836</td>\n",
       "      <td>1</td>\n",
       "      <td>96nn52n</td>\n",
       "      <td>6562</td>\n",
       "      <td>2014-12-06 10</td>\n",
       "    </tr>\n",
       "    <tr>\n",
       "      <th>4</th>\n",
       "      <td>98145908</td>\n",
       "      <td>290208520</td>\n",
       "      <td>1</td>\n",
       "      <td>NaN</td>\n",
       "      <td>13926</td>\n",
       "      <td>2014-12-16 21</td>\n",
       "    </tr>\n",
       "  </tbody>\n",
       "</table>\n",
       "</div>"
      ],
      "text/plain": [
       "    user_id    item_id  behavior_type user_geohash  item_category  \\\n",
       "0  98047837  232431562              1          NaN           4245   \n",
       "1  97726136  383583590              1          NaN           5894   \n",
       "2  98607707   64749712              1          NaN           2883   \n",
       "3  98662432  320593836              1      96nn52n           6562   \n",
       "4  98145908  290208520              1          NaN          13926   \n",
       "\n",
       "            time  \n",
       "0  2014-12-06 02  \n",
       "1  2014-12-09 20  \n",
       "2  2014-12-18 11  \n",
       "3  2014-12-06 10  \n",
       "4  2014-12-16 21  "
      ]
     },
     "execution_count": 6,
     "metadata": {},
     "output_type": "execute_result"
    }
   ],
   "source": [
    "data_user.head()"
   ]
  },
  {
   "cell_type": "markdown",
   "id": "0dabb3ce",
   "metadata": {},
   "source": [
    "### 本数据集共有104万条左右数据，数据为淘宝APP2014年11月18日至2014年12月18日的用户行为数据，共计6列字段，列字段分别是：\n",
    "\n",
    "1. user_id：用户身份，脱敏\n",
    "\n",
    "2. item_id：商品ID，脱敏\n",
    "\n",
    "3. behavior_type：用户行为类型（包含点击、收藏、加购物车、支付四种行为，分别用数字1、2、3、4表示）\n",
    "\n",
    "4. user_geohash：地理位置\n",
    "\n",
    "5. item_category：品类ID（商品所属的品类）\n",
    "\n",
    "6. time：用户行为发生的时间"
   ]
  },
  {
   "cell_type": "markdown",
   "id": "b6c64804",
   "metadata": {},
   "source": [
    "# 五、数据清洗"
   ]
  },
  {
   "cell_type": "code",
   "execution_count": 7,
   "id": "4076f442",
   "metadata": {},
   "outputs": [
    {
     "data": {
      "text/plain": [
       "user_id                0\n",
       "item_id                0\n",
       "behavior_type          0\n",
       "user_geohash     8334824\n",
       "item_category          0\n",
       "time                   0\n",
       "dtype: int64"
      ]
     },
     "execution_count": 7,
     "metadata": {},
     "output_type": "execute_result"
    }
   ],
   "source": [
    "# 缺失值处理\n",
    "missingTotal = data_user.isnull().sum()\n",
    "missingTotal"
   ]
  },
  {
   "cell_type": "code",
   "execution_count": 8,
   "id": "1a80783a",
   "metadata": {},
   "outputs": [
    {
     "data": {
      "text/plain": [
       "user_geohash    8334824\n",
       "dtype: int64"
      ]
     },
     "execution_count": 8,
     "metadata": {},
     "output_type": "execute_result"
    }
   ],
   "source": [
    "missingExist = missingTotal[missingTotal>0]\n",
    "missingExist = missingExist.sort_values(ascending=False)\n",
    "missingExist"
   ]
  },
  {
   "cell_type": "markdown",
   "id": "3970563a",
   "metadata": {},
   "source": [
    "### 不能删除缺失值，因为地理信息在数据集收集过程中做过加密转换，因此对数据集不做处理。"
   ]
  },
  {
   "cell_type": "markdown",
   "id": "5fde4d14",
   "metadata": {},
   "source": [
    "### 5.1 一致化处理\n",
    "#### 按照小时和天数分隔"
   ]
  },
  {
   "cell_type": "code",
   "execution_count": 9,
   "id": "6ac9a000",
   "metadata": {},
   "outputs": [
    {
     "data": {
      "text/html": [
       "<div>\n",
       "<style scoped>\n",
       "    .dataframe tbody tr th:only-of-type {\n",
       "        vertical-align: middle;\n",
       "    }\n",
       "\n",
       "    .dataframe tbody tr th {\n",
       "        vertical-align: top;\n",
       "    }\n",
       "\n",
       "    .dataframe thead th {\n",
       "        text-align: right;\n",
       "    }\n",
       "</style>\n",
       "<table border=\"1\" class=\"dataframe\">\n",
       "  <thead>\n",
       "    <tr style=\"text-align: right;\">\n",
       "      <th></th>\n",
       "      <th>user_id</th>\n",
       "      <th>item_id</th>\n",
       "      <th>behavior_type</th>\n",
       "      <th>user_geohash</th>\n",
       "      <th>item_category</th>\n",
       "      <th>time</th>\n",
       "      <th>date</th>\n",
       "    </tr>\n",
       "  </thead>\n",
       "  <tbody>\n",
       "    <tr>\n",
       "      <th>0</th>\n",
       "      <td>98047837</td>\n",
       "      <td>232431562</td>\n",
       "      <td>1</td>\n",
       "      <td>NaN</td>\n",
       "      <td>4245</td>\n",
       "      <td>2014-12-06 02</td>\n",
       "      <td>2014-12-06</td>\n",
       "    </tr>\n",
       "    <tr>\n",
       "      <th>1</th>\n",
       "      <td>97726136</td>\n",
       "      <td>383583590</td>\n",
       "      <td>1</td>\n",
       "      <td>NaN</td>\n",
       "      <td>5894</td>\n",
       "      <td>2014-12-09 20</td>\n",
       "      <td>2014-12-09</td>\n",
       "    </tr>\n",
       "    <tr>\n",
       "      <th>2</th>\n",
       "      <td>98607707</td>\n",
       "      <td>64749712</td>\n",
       "      <td>1</td>\n",
       "      <td>NaN</td>\n",
       "      <td>2883</td>\n",
       "      <td>2014-12-18 11</td>\n",
       "      <td>2014-12-18</td>\n",
       "    </tr>\n",
       "    <tr>\n",
       "      <th>3</th>\n",
       "      <td>98662432</td>\n",
       "      <td>320593836</td>\n",
       "      <td>1</td>\n",
       "      <td>96nn52n</td>\n",
       "      <td>6562</td>\n",
       "      <td>2014-12-06 10</td>\n",
       "      <td>2014-12-06</td>\n",
       "    </tr>\n",
       "    <tr>\n",
       "      <th>4</th>\n",
       "      <td>98145908</td>\n",
       "      <td>290208520</td>\n",
       "      <td>1</td>\n",
       "      <td>NaN</td>\n",
       "      <td>13926</td>\n",
       "      <td>2014-12-16 21</td>\n",
       "      <td>2014-12-16</td>\n",
       "    </tr>\n",
       "  </tbody>\n",
       "</table>\n",
       "</div>"
      ],
      "text/plain": [
       "    user_id    item_id  behavior_type user_geohash  item_category  \\\n",
       "0  98047837  232431562              1          NaN           4245   \n",
       "1  97726136  383583590              1          NaN           5894   \n",
       "2  98607707   64749712              1          NaN           2883   \n",
       "3  98662432  320593836              1      96nn52n           6562   \n",
       "4  98145908  290208520              1          NaN          13926   \n",
       "\n",
       "            time        date  \n",
       "0  2014-12-06 02  2014-12-06  \n",
       "1  2014-12-09 20  2014-12-09  \n",
       "2  2014-12-18 11  2014-12-18  \n",
       "3  2014-12-06 10  2014-12-06  \n",
       "4  2014-12-16 21  2014-12-16  "
      ]
     },
     "execution_count": 9,
     "metadata": {},
     "output_type": "execute_result"
    }
   ],
   "source": [
    "\n",
    "import re\n",
    "#拆分数据集\n",
    "# 按照date\n",
    "# 2014-12-06 02 如果按照天的话，是‘ ’作为分隔\n",
    "# map函数（函数，范围）\n",
    "# re.compile(模式)=pattern\n",
    "# 对s进行pattern匹配，然后按照pattern split（s）然后取[0]\n",
    "\n",
    "data_user['date'] = data_user['time'].map(lambda s: re.compile(' ').split(s)[0])\n",
    "data_user.head()"
   ]
  },
  {
   "cell_type": "code",
   "execution_count": 10,
   "id": "a973872b",
   "metadata": {},
   "outputs": [
    {
     "data": {
      "text/html": [
       "<div>\n",
       "<style scoped>\n",
       "    .dataframe tbody tr th:only-of-type {\n",
       "        vertical-align: middle;\n",
       "    }\n",
       "\n",
       "    .dataframe tbody tr th {\n",
       "        vertical-align: top;\n",
       "    }\n",
       "\n",
       "    .dataframe thead th {\n",
       "        text-align: right;\n",
       "    }\n",
       "</style>\n",
       "<table border=\"1\" class=\"dataframe\">\n",
       "  <thead>\n",
       "    <tr style=\"text-align: right;\">\n",
       "      <th></th>\n",
       "      <th>user_id</th>\n",
       "      <th>item_id</th>\n",
       "      <th>behavior_type</th>\n",
       "      <th>user_geohash</th>\n",
       "      <th>item_category</th>\n",
       "      <th>time</th>\n",
       "      <th>date</th>\n",
       "      <th>hour</th>\n",
       "    </tr>\n",
       "  </thead>\n",
       "  <tbody>\n",
       "    <tr>\n",
       "      <th>0</th>\n",
       "      <td>98047837</td>\n",
       "      <td>232431562</td>\n",
       "      <td>1</td>\n",
       "      <td>NaN</td>\n",
       "      <td>4245</td>\n",
       "      <td>2014-12-06 02</td>\n",
       "      <td>2014-12-06</td>\n",
       "      <td>02</td>\n",
       "    </tr>\n",
       "    <tr>\n",
       "      <th>1</th>\n",
       "      <td>97726136</td>\n",
       "      <td>383583590</td>\n",
       "      <td>1</td>\n",
       "      <td>NaN</td>\n",
       "      <td>5894</td>\n",
       "      <td>2014-12-09 20</td>\n",
       "      <td>2014-12-09</td>\n",
       "      <td>20</td>\n",
       "    </tr>\n",
       "    <tr>\n",
       "      <th>2</th>\n",
       "      <td>98607707</td>\n",
       "      <td>64749712</td>\n",
       "      <td>1</td>\n",
       "      <td>NaN</td>\n",
       "      <td>2883</td>\n",
       "      <td>2014-12-18 11</td>\n",
       "      <td>2014-12-18</td>\n",
       "      <td>11</td>\n",
       "    </tr>\n",
       "    <tr>\n",
       "      <th>3</th>\n",
       "      <td>98662432</td>\n",
       "      <td>320593836</td>\n",
       "      <td>1</td>\n",
       "      <td>96nn52n</td>\n",
       "      <td>6562</td>\n",
       "      <td>2014-12-06 10</td>\n",
       "      <td>2014-12-06</td>\n",
       "      <td>10</td>\n",
       "    </tr>\n",
       "    <tr>\n",
       "      <th>4</th>\n",
       "      <td>98145908</td>\n",
       "      <td>290208520</td>\n",
       "      <td>1</td>\n",
       "      <td>NaN</td>\n",
       "      <td>13926</td>\n",
       "      <td>2014-12-16 21</td>\n",
       "      <td>2014-12-16</td>\n",
       "      <td>21</td>\n",
       "    </tr>\n",
       "  </tbody>\n",
       "</table>\n",
       "</div>"
      ],
      "text/plain": [
       "    user_id    item_id  behavior_type user_geohash  item_category  \\\n",
       "0  98047837  232431562              1          NaN           4245   \n",
       "1  97726136  383583590              1          NaN           5894   \n",
       "2  98607707   64749712              1          NaN           2883   \n",
       "3  98662432  320593836              1      96nn52n           6562   \n",
       "4  98145908  290208520              1          NaN          13926   \n",
       "\n",
       "            time        date hour  \n",
       "0  2014-12-06 02  2014-12-06   02  \n",
       "1  2014-12-09 20  2014-12-09   20  \n",
       "2  2014-12-18 11  2014-12-18   11  \n",
       "3  2014-12-06 10  2014-12-06   10  \n",
       "4  2014-12-16 21  2014-12-16   21  "
      ]
     },
     "execution_count": 10,
     "metadata": {},
     "output_type": "execute_result"
    }
   ],
   "source": [
    "# 按照小时的话 然后取[1]\n",
    "data_user['hour']=data_user['time'].map(lambda s:re.compile(' ').split(s)[1])\n",
    "data_user.head()"
   ]
  },
  {
   "cell_type": "code",
   "execution_count": 11,
   "id": "834a1690",
   "metadata": {
    "scrolled": true
   },
   "outputs": [
    {
     "data": {
      "text/plain": [
       "user_id           int64\n",
       "item_id           int64\n",
       "behavior_type     int64\n",
       "user_geohash     object\n",
       "item_category     int64\n",
       "time             object\n",
       "date             object\n",
       "hour             object\n",
       "dtype: object"
      ]
     },
     "execution_count": 11,
     "metadata": {},
     "output_type": "execute_result"
    }
   ],
   "source": [
    "# 用df.dtypes查看data_user数据集数据类型：\n",
    "data_user.dtypes"
   ]
  },
  {
   "cell_type": "markdown",
   "id": "b3a701c0",
   "metadata": {},
   "source": [
    "### 5.2 将date，hour的object化为日期类数据类型"
   ]
  },
  {
   "cell_type": "code",
   "execution_count": 12,
   "id": "72bc6aed",
   "metadata": {},
   "outputs": [
    {
     "data": {
      "text/plain": [
       "user_id                   int64\n",
       "item_id                   int64\n",
       "behavior_type             int64\n",
       "user_geohash             object\n",
       "item_category             int64\n",
       "time             datetime64[ns]\n",
       "date             datetime64[ns]\n",
       "hour                      int64\n",
       "dtype: object"
      ]
     },
     "execution_count": 12,
     "metadata": {},
     "output_type": "execute_result"
    }
   ],
   "source": [
    "#发现time列和date列应该转化为日期类数据类型，hour列应该是字符串数据类型。\n",
    "\n",
    "#数据类型转化 用pd.to_datetime\n",
    "\n",
    "data_user['date']=pd.to_datetime(data_user['date'])\n",
    "data_user['time']=pd.to_datetime(data_user['time'])\n",
    "data_user['hour']=data_user['hour'].astype('int64')\n",
    "data_user.dtypes"
   ]
  },
  {
   "cell_type": "markdown",
   "id": "4ba61415",
   "metadata": {},
   "source": [
    "### 5.3 异常值处理"
   ]
  },
  {
   "cell_type": "code",
   "execution_count": 13,
   "id": "733e69cf",
   "metadata": {},
   "outputs": [
    {
     "data": {
      "text/html": [
       "<div>\n",
       "<style scoped>\n",
       "    .dataframe tbody tr th:only-of-type {\n",
       "        vertical-align: middle;\n",
       "    }\n",
       "\n",
       "    .dataframe tbody tr th {\n",
       "        vertical-align: top;\n",
       "    }\n",
       "\n",
       "    .dataframe thead th {\n",
       "        text-align: right;\n",
       "    }\n",
       "</style>\n",
       "<table border=\"1\" class=\"dataframe\">\n",
       "  <thead>\n",
       "    <tr style=\"text-align: right;\">\n",
       "      <th></th>\n",
       "      <th>user_id</th>\n",
       "      <th>item_id</th>\n",
       "      <th>behavior_type</th>\n",
       "      <th>item_category</th>\n",
       "      <th>hour</th>\n",
       "    </tr>\n",
       "  </thead>\n",
       "  <tbody>\n",
       "    <tr>\n",
       "      <th>count</th>\n",
       "      <td>1.225691e+07</td>\n",
       "      <td>1.225691e+07</td>\n",
       "      <td>1.225691e+07</td>\n",
       "      <td>1.225691e+07</td>\n",
       "      <td>1.225691e+07</td>\n",
       "    </tr>\n",
       "    <tr>\n",
       "      <th>mean</th>\n",
       "      <td>7.170732e+07</td>\n",
       "      <td>2.023084e+08</td>\n",
       "      <td>1.105271e+00</td>\n",
       "      <td>6.846162e+03</td>\n",
       "      <td>1.481799e+01</td>\n",
       "    </tr>\n",
       "    <tr>\n",
       "      <th>std</th>\n",
       "      <td>4.122920e+07</td>\n",
       "      <td>1.167397e+08</td>\n",
       "      <td>4.572662e-01</td>\n",
       "      <td>3.809922e+03</td>\n",
       "      <td>6.474778e+00</td>\n",
       "    </tr>\n",
       "    <tr>\n",
       "      <th>min</th>\n",
       "      <td>4.913000e+03</td>\n",
       "      <td>6.400000e+01</td>\n",
       "      <td>1.000000e+00</td>\n",
       "      <td>2.000000e+00</td>\n",
       "      <td>0.000000e+00</td>\n",
       "    </tr>\n",
       "    <tr>\n",
       "      <th>25%</th>\n",
       "      <td>3.584965e+07</td>\n",
       "      <td>1.014130e+08</td>\n",
       "      <td>1.000000e+00</td>\n",
       "      <td>3.721000e+03</td>\n",
       "      <td>1.000000e+01</td>\n",
       "    </tr>\n",
       "    <tr>\n",
       "      <th>50%</th>\n",
       "      <td>7.292804e+07</td>\n",
       "      <td>2.021359e+08</td>\n",
       "      <td>1.000000e+00</td>\n",
       "      <td>6.209000e+03</td>\n",
       "      <td>1.600000e+01</td>\n",
       "    </tr>\n",
       "    <tr>\n",
       "      <th>75%</th>\n",
       "      <td>1.073774e+08</td>\n",
       "      <td>3.035405e+08</td>\n",
       "      <td>1.000000e+00</td>\n",
       "      <td>1.029000e+04</td>\n",
       "      <td>2.000000e+01</td>\n",
       "    </tr>\n",
       "    <tr>\n",
       "      <th>max</th>\n",
       "      <td>1.424559e+08</td>\n",
       "      <td>4.045625e+08</td>\n",
       "      <td>4.000000e+00</td>\n",
       "      <td>1.408000e+04</td>\n",
       "      <td>2.300000e+01</td>\n",
       "    </tr>\n",
       "  </tbody>\n",
       "</table>\n",
       "</div>"
      ],
      "text/plain": [
       "            user_id       item_id  behavior_type  item_category          hour\n",
       "count  1.225691e+07  1.225691e+07   1.225691e+07   1.225691e+07  1.225691e+07\n",
       "mean   7.170732e+07  2.023084e+08   1.105271e+00   6.846162e+03  1.481799e+01\n",
       "std    4.122920e+07  1.167397e+08   4.572662e-01   3.809922e+03  6.474778e+00\n",
       "min    4.913000e+03  6.400000e+01   1.000000e+00   2.000000e+00  0.000000e+00\n",
       "25%    3.584965e+07  1.014130e+08   1.000000e+00   3.721000e+03  1.000000e+01\n",
       "50%    7.292804e+07  2.021359e+08   1.000000e+00   6.209000e+03  1.600000e+01\n",
       "75%    1.073774e+08  3.035405e+08   1.000000e+00   1.029000e+04  2.000000e+01\n",
       "max    1.424559e+08  4.045625e+08   4.000000e+00   1.408000e+04  2.300000e+01"
      ]
     },
     "execution_count": 13,
     "metadata": {},
     "output_type": "execute_result"
    }
   ],
   "source": [
    "# 描述性统计\n",
    "data_user = data_user.sort_values(by='time',ascending=True)\n",
    "data_user = data_user.reset_index(drop=True)\n",
    "data_user.describe()"
   ]
  },
  {
   "cell_type": "markdown",
   "id": "2d43eaa0",
   "metadata": {},
   "source": [
    "# 六、 用户行为分析"
   ]
  },
  {
   "cell_type": "markdown",
   "id": "f94929a4",
   "metadata": {},
   "source": [
    "#### （1）pv和uv分析\n",
    "1. PV(访问量)：即Page View, 具体是指网站的是页面浏览量或者点击量，页面被刷新一次就计算一次。\n",
    "\n",
    "2. UV(独立访客)：即Unique Visitor,访问您网站的一台电脑客户端为一个访客。"
   ]
  },
  {
   "cell_type": "markdown",
   "id": "7e36b2af",
   "metadata": {},
   "source": [
    "### 6.1  分析daily data"
   ]
  },
  {
   "cell_type": "code",
   "execution_count": 14,
   "id": "a9a4b1f1",
   "metadata": {},
   "outputs": [
    {
     "data": {
      "image/png": "[encoded data removed]",
      "text/plain": [
       "<Figure size 432x288 with 2 Axes>"
      ]
     },
     "metadata": {
      "needs_background": "light"
     },
     "output_type": "display_data"
    }
   ],
   "source": [
    "#pv_daily记录每天用户操作次数，uv_daily记录每天不同的上线用户数量\n",
    "pv_daily=data_user.groupby('date')['user_id'].count().reset_index().rename(columns={'user_id':'pv'})\n",
    "uv_daily=data_user.groupby('date')['user_id'].apply(lambda x:x.drop_duplicates().count()).reset_index().rename(columns={'user_id':'uv'})\n",
    "fig,axes=plt.subplots(2,1,sharex=True)\n",
    "pv_daily.plot(x='date',y='pv',ax=axes[0])\n",
    "uv_daily.plot(x='date',y='uv',ax=axes[1])\n",
    "axes[0].set_title('pv_daily')\n",
    "plt.savefig('./PV&UV_day.png',dpi=1500)"
   ]
  },
  {
   "cell_type": "markdown",
   "id": "e61ccb4e",
   "metadata": {},
   "source": [
    "#### 在双十二期间，pv和uv访问量达到峰值，并且可以发现，uv和pv两个访问量数值差距比较大，同时，因为数据集总人数大约是10000人左右，因此，通过nv值可以分析出双十二期间淘宝用户的日活跃大概是45%浮动。"
   ]
  },
  {
   "cell_type": "markdown",
   "id": "1fc0a9f9",
   "metadata": {},
   "source": [
    "### 6.2小时访问量分析"
   ]
  },
  {
   "cell_type": "code",
   "execution_count": 15,
   "id": "03e8aa61",
   "metadata": {},
   "outputs": [
    {
     "data": {
      "text/plain": [
       "Text(0.5, 1.0, 'uv_hour')"
      ]
     },
     "execution_count": 15,
     "metadata": {},
     "output_type": "execute_result"
    },
    {
     "data": {
      "image/png": "[encoded data removed]",
      "text/plain": [
       "<Figure size 432x288 with 2 Axes>"
      ]
     },
     "metadata": {
      "needs_background": "light"
     },
     "output_type": "display_data"
    }
   ],
   "source": [
    "#pv_hour记录每小时用户操作次数，uv_hour记录每小时不同的上线用户数量\n",
    "pv_hour=data_user.groupby('hour')['user_id'].count().reset_index().rename(columns={'user_id':'pv'})\n",
    "uv_hour=data_user.groupby('hour')['user_id'].apply(lambda x:x.drop_duplicates().count()).reset_index().rename(columns={'user_id':'uv'})\n",
    "fig,axes=plt.subplots(2,1,sharex=True)\n",
    "pv_hour.plot(x='hour',y='pv',ax=axes[0])\n",
    "uv_hour.plot(x='hour',y='uv',ax=axes[1])\n",
    "axes[0].set_title('pv_hour')\n",
    "axes[0].set_title('uv_hour')"
   ]
  },
  {
   "cell_type": "markdown",
   "id": "fae55ca8",
   "metadata": {},
   "source": [
    "#### 图表显示:pv和uv在凌晨0-5点期间波动情况相同，都呈下降趋势，访问量都比较小，同时在晚上18：00左右，pv波动情况比较剧烈，相比来看uv不太明显，因此晚上18：00以后是淘宝用户访问app的活跃时间段。\n",
    "\n"
   ]
  },
  {
   "cell_type": "markdown",
   "id": "1e2f9774",
   "metadata": {},
   "source": [
    "### 6.3 不同行为类型用户pv分析"
   ]
  },
  {
   "cell_type": "code",
   "execution_count": 16,
   "id": "9899dcb3",
   "metadata": {},
   "outputs": [
    {
     "data": {
      "text/plain": [
       "Text(0.5, 1.0, 'pv_different_behavior_type_except1')"
      ]
     },
     "execution_count": 16,
     "metadata": {},
     "output_type": "execute_result"
    },
    {
     "data": {
      "image/png": "[encoded data removed]",
      "text/plain": [
       "<Figure size 432x288 with 2 Axes>"
      ]
     },
     "metadata": {
      "needs_background": "light"
     },
     "output_type": "display_data"
    }
   ],
   "source": [
    "pv_detail=data_user.groupby(['behavior_type','hour'])['user_id'].count().reset_index().rename(columns={'user_id':'total_pv'})\n",
    "fig,axes=plt.subplots(2,1,sharex=True)\n",
    "sns.pointplot(x='hour',y='total_pv',hue='behavior_type',data=pv_detail,ax=axes[0])\n",
    "sns.pointplot(x='hour',y='total_pv',hue='behavior_type',data=pv_detail[pv_detail.behavior_type!=1],ax=axes[1])\n",
    "axes[0].set_title('pv_different_behavior_type')\n",
    "axes[1].set_title('pv_different_behavior_type_except1')"
   ]
  },
  {
   "cell_type": "markdown",
   "id": "9667b8fc",
   "metadata": {},
   "source": [
    "#### 包含点击、收藏、加购物车、支付四种行为，分别用数字1、2、3、4表示）\n",
    "\n",
    "#### 点击这一用户行为相比较于其他三类用户行为，pv访问量较高，同时四种用户行为的波动情况基本一致，因此晚上这一时间段不管哪一种用户行为，pv访问量都是最高的。从图2可以看出，加入购物车这一用户行为的pv总量高于收藏的总量，因此在后续漏斗流失分析中，用户行为3应该在2之前分析。"
   ]
  },
  {
   "cell_type": "markdown",
   "id": "8d3da4a1",
   "metadata": {},
   "source": [
    "### 6.3.1 extension\n",
    "#### About 漏斗分析\n",
    "https://www.woshipm.com/data-analysis/4617880.html"
   ]
  },
  {
   "cell_type": "markdown",
   "id": "7e5124fb",
   "metadata": {},
   "source": [
    "漏斗分析在业务流程拆解和问题环节定位上具有非常重要的作用。当我们无法确定问题发生在哪个环节时，一般会通过将业务流程进行拆解，比较各个环节之间的转化率/流失率，通过这种漏斗分析的方法来定位问题原因"
   ]
  },
  {
   "cell_type": "markdown",
   "id": "e126c0e6",
   "metadata": {},
   "source": [
    "漏斗分析是基于业务流程的一种数据分析模型，也就是说一定是存在着业务的前因后果、前后关联关系的，它能够科学反映用户行为状态以及从起点到终点各阶段用户转化情况，进而可以定位用户流失的环节和原因。"
   ]
  },
  {
   "cell_type": "markdown",
   "id": "fe85b2a2",
   "metadata": {},
   "source": [
    "#### 漏斗分析最常用的是转化率和流失率两个互补型指标，流失率=1-转化率。"
   ]
  },
  {
   "cell_type": "markdown",
   "id": "4e562aa8",
   "metadata": {},
   "source": [
    "### 常见的漏斗模型"
   ]
  },
  {
   "cell_type": "markdown",
   "id": "8169ec3a",
   "metadata": {},
   "source": [
    "1. AARRR\n",
    "* Acquisition用户获取\n",
    "* Activation用户激活\n",
    "* Retention用户留存\n",
    "* Revenue用户产生收入（收费用户的吸引）\n",
    "* Refer自传播\n"
   ]
  },
  {
   "cell_type": "markdown",
   "id": "64f16eb6",
   "metadata": {},
   "source": [
    "2. 电商漏斗模型(in this notebook)\n",
    "* 进入首页-->查看商详页-->加购物车-->支付成功\n",
    "3. 功能漏斗模型\n",
    "* 工具类的产品的漏斗\n",
    "* eg KEEP 产品功能漏斗\n",
    "* 资源推广-->用户报名-->用户达标-->用户抽奖\n",
    "4. AIDMA\n",
    "* 消费者行为学领域很成熟的理论模型之一\n",
    "* attention注意\n",
    "* interest兴趣\n",
    "* Desire欲望\n",
    "* Memory记忆\n",
    "* Action行动\n"
   ]
  },
  {
   "cell_type": "markdown",
   "id": "b07950e0",
   "metadata": {},
   "source": [
    "### 漏斗分析步骤\n",
    "1. 快速定位问题环节\n",
    "* 明摆着可优化的点，可以提升用户体验（对产品而言）；\n",
    "* 迅速定位流失环节，针对性的下钻分析可以找到可优化的点，可以降低流失提升用户留存率（对运营而言）。\n",
    "2. 多维度切分分析问题原因\n",
    "* 各个维度对漏斗进行切分\n",
    "3. 监控漏斗转化趋势迭代优化\n",
    "\n",
    "\n",
    "### Eg\n",
    "进入注册页-开始注册-提交验证码-注册成功\n",
    "1. 定位“开始注册”-“提交验证码”环节。\n",
    "2.reasons\n",
    "* 是否与用户使用的平台有关？\n",
    "* PC端和移动端是否有产品功能设计上的差异？\n",
    "* 是否与手机平台有关？\n",
    "* Android和iOS用户在这个环节是否有差异？\n",
    "* 是否与浏览器有关？\n",
    "* 不同浏览器在进行验证时是否有bug?\n",
    "3. 在各个维度下用户的转化漏斗如何？\n",
    "* Chrome浏览器的用户注册数和注册转化率较其他浏览器低很多\n",
    "* 对比每一步转化，发现第一步到第二步的转化率和其他并无明显差异，而第二步到第三步的转化率非常低，大部分用户没有提交验证码，而是直接离\n",
    "开了页面。\n",
    "* 测试发现Chrome浏览器在获取验证码上确实存在bug，影响了用户注册，研发针对此问题进行解决后，该浏览器下的注册转化率明显提升。"
   ]
  },
  {
   "cell_type": "markdown",
   "id": "935b9aec",
   "metadata": {},
   "source": [
    "# 七、用户消费行为分析"
   ]
  },
  {
   "cell_type": "markdown",
   "id": "43320834",
   "metadata": {},
   "source": [
    "### 7.1 （1）用户购买次数情况分析"
   ]
  },
  {
   "cell_type": "code",
   "execution_count": 32,
   "id": "b2d2bc33",
   "metadata": {
    "scrolled": true
   },
   "outputs": [
    {
     "data": {
      "image/png": "[encoded data removed]",
      "text/plain": [
       "<Figure size 432x288 with 1 Axes>"
      ]
     },
     "metadata": {
      "needs_background": "light"
     },
     "output_type": "display_data"
    }
   ],
   "source": [
    "# 购买：行为4\n",
    "# groupby 用户个人的分析（groupby user_id）\n",
    "# 时间：从\n",
    "data_user_buy=data_user[data_user.behavior_type==4].groupby('user_id')['behavior_type'].count()\n",
    "sns.distplot(data_user_buy,kde=False)\n",
    "plt.title('daily_user_buy')\n",
    "plt.savefig('./daily_user_buy.png',dpi=1500)\n"
   ]
  },
  {
   "cell_type": "markdown",
   "id": "3bde8018",
   "metadata": {},
   "source": [
    "淘宝用户消费次数普遍在10次以内，因此需要重点关注购买次数在10次以上的消费者用户群体"
   ]
  },
  {
   "cell_type": "markdown",
   "id": "e3cb0e7d",
   "metadata": {},
   "source": [
    "### 7.2 （2）日ARPPU\n",
    "* ARPPU（average revenue per paying user）是指从每位付费用户身上获得的收入，它反映的是每个付费用户的平均付费额度。\n",
    "* ARPPU=总收入/活跃用户付费数量\n",
    "* 因为本数据集中没有消费金额，因此在计算过程中用消费次数代替消费金额\n",
    "* 人均消费次数=消费总次数/消费人数"
   ]
  },
  {
   "cell_type": "code",
   "execution_count": 33,
   "id": "f1a893ab",
   "metadata": {
    "scrolled": true
   },
   "outputs": [
    {
     "data": {
      "image/png": "[encoded data removed]",
      "text/plain": [
       "<Figure size 432x288 with 1 Axes>"
      ]
     },
     "metadata": {
      "needs_background": "light"
     },
     "output_type": "display_data"
    }
   ],
   "source": [
    "data_use_buy1=data_user[data_user.behavior_type==4].groupby(['date','user_id'])['behavior_type'].count().reset_index().rename(columns={'behavior_type':'total'})\n",
    "data_use_buy1.groupby('date').apply(lambda x:x.total.sum()/x.total.count()).plot()\n",
    "plt.title('daily_ARPPU')\n",
    "plt.savefig('./daily_ARPPU.png',dpi=1500)"
   ]
  },
  {
   "cell_type": "markdown",
   "id": "be3996d6",
   "metadata": {},
   "source": [
    "图表显示：平均每天消费次数在1-2次之间波动，双十二期间消费次数达到最高值。"
   ]
  },
  {
   "cell_type": "markdown",
   "id": "f563fb73",
   "metadata": {},
   "source": [
    "### 7.3 （3）日ARPU\n",
    "（user前缺了个paying） \n",
    "* ARPU(Average Revenue Per User) ：平均每用户收入，可通过 总收入/AU 计算得出。它可以衡量产品的盈利能力和发展活力。\n",
    "\n",
    "* 活跃用户数平均消费次数=消费总次数/活跃用户人数(每天有操作行为的为活跃)\n"
   ]
  },
  {
   "cell_type": "code",
   "execution_count": 19,
   "id": "d7231653",
   "metadata": {},
   "outputs": [
    {
     "data": {
      "text/plain": [
       "Text(0.5, 1.0, 'daily_ARPU')"
      ]
     },
     "execution_count": 19,
     "metadata": {},
     "output_type": "execute_result"
    },
    {
     "data": {
      "image/png": "[encoded data removed]",
      "text/plain": [
       "<Figure size 432x288 with 1 Axes>"
      ]
     },
     "metadata": {
      "needs_background": "light"
     },
     "output_type": "display_data"
    }
   ],
   "source": [
    "data_user['operation']=1\n",
    "data_use_buy2=data_user.groupby(['date','user_id','behavior_type'])['operation'].count().reset_index().rename(columns={'operation':'total'})\n",
    "data_use_buy2.groupby('date').apply(lambda x:x[x.behavior_type==4].total.sum()/len(x.user_id.unique())).plot()\n",
    "plt.title('daily_ARPU')"
   ]
  },
  {
   "cell_type": "markdown",
   "id": "719ed8fb",
   "metadata": {},
   "source": [
    "### 7.4 （4）付费率\n",
    "\n",
    "* 付费率=消费人数/活跃用户人数\n"
   ]
  },
  {
   "cell_type": "code",
   "execution_count": 20,
   "id": "c155b86a",
   "metadata": {
    "scrolled": true
   },
   "outputs": [
    {
     "data": {
      "text/plain": [
       "Text(0.5, 1.0, 'daily_afford_rate')"
      ]
     },
     "execution_count": 20,
     "metadata": {},
     "output_type": "execute_result"
    },
    {
     "data": {
      "image/png": "[encoded data removed]",
      "text/plain": [
       "<Figure size 432x288 with 1 Axes>"
      ]
     },
     "metadata": {
      "needs_background": "light"
     },
     "output_type": "display_data"
    }
   ],
   "source": [
    "data_use_buy2.groupby('date').apply(lambda x:x[x.behavior_type==4].total.count()/len(x.user_id.unique())).plot()\n",
    "plt.title('daily_afford_rate')\n"
   ]
  },
  {
   "cell_type": "markdown",
   "id": "f5beba6d",
   "metadata": {},
   "source": [
    "### 7.5 （5）同一时间段用户消费次数分布"
   ]
  },
  {
   "cell_type": "code",
   "execution_count": 21,
   "id": "90f20ac7",
   "metadata": {},
   "outputs": [
    {
     "name": "stdout",
     "output_type": "stream",
     "text": [
      "大多数用户消费：1次\n"
     ]
    },
    {
     "data": {
      "image/png": "[encoded data removed]",
      "text/plain": [
       "<Figure size 432x288 with 1 Axes>"
      ]
     },
     "metadata": {
      "needs_background": "light"
     },
     "output_type": "display_data"
    }
   ],
   "source": [
    "data_user_buy3=data_user[data_user.behavior_type==4].groupby(['user_id','date','hour'])['operation'].sum().rename('buy_count')\n",
    "# 固定了date 和hour--固定那一个小时的购买量\n",
    "sns.distplot(data_user_buy3)\n",
    "print('大多数用户消费：{}次'.format(data_user_buy3.mode()[0]))"
   ]
  },
  {
   "cell_type": "code",
   "execution_count": 22,
   "id": "f00f34d2",
   "metadata": {},
   "outputs": [
    {
     "data": {
      "text/plain": [
       "user_id  date        hour\n",
       "4913     2014-12-01  23      1\n",
       "         2014-12-07  22      2\n",
       "         2014-12-11  18      1\n",
       "         2014-12-13  18      1\n",
       "         2014-12-16  12      1\n",
       "                            ..\n",
       "113960   2014-11-28  8       1\n",
       "         2014-12-02  9       3\n",
       "                     16      3\n",
       "         2014-12-03  9       4\n",
       "                     20      1\n",
       "Name: buy_count, Length: 100, dtype: int64"
      ]
     },
     "execution_count": 22,
     "metadata": {},
     "output_type": "execute_result"
    }
   ],
   "source": [
    "data_user_buy3[:100]\n",
    "# 认清楚groupby意义"
   ]
  },
  {
   "cell_type": "markdown",
   "id": "e1ab1e38",
   "metadata": {},
   "source": [
    "# 八、复购情况分析\n",
    "* 复购情况，即两天以上有购买行为,一天多次购买算一次\n",
    "* 复购率=有复购行为的用户数/有购买行为的用户总数"
   ]
  },
  {
   "cell_type": "code",
   "execution_count": 23,
   "id": "17254d24",
   "metadata": {},
   "outputs": [
    {
     "name": "stdout",
     "output_type": "stream",
     "text": [
      "复购率: 0.8717\n"
     ]
    }
   ],
   "source": [
    "date_rebuy=data_user[data_user.behavior_type==4].groupby('user_id')['date'].apply(lambda x:len(x.unique())).rename('rebuy_count')\n",
    "# 用unique函数\n",
    "print('复购率:',round(date_rebuy[date_rebuy>=2].count()/date_rebuy.count(),4))"
   ]
  },
  {
   "cell_type": "code",
   "execution_count": 24,
   "id": "4c1bc616",
   "metadata": {},
   "outputs": [
    {
     "data": {
      "text/html": [
       "<div>\n",
       "<style scoped>\n",
       "    .dataframe tbody tr th:only-of-type {\n",
       "        vertical-align: middle;\n",
       "    }\n",
       "\n",
       "    .dataframe tbody tr th {\n",
       "        vertical-align: top;\n",
       "    }\n",
       "\n",
       "    .dataframe thead th {\n",
       "        text-align: right;\n",
       "    }\n",
       "</style>\n",
       "<table border=\"1\" class=\"dataframe\">\n",
       "  <thead>\n",
       "    <tr style=\"text-align: right;\">\n",
       "      <th></th>\n",
       "      <th>user_id</th>\n",
       "      <th>date</th>\n",
       "      <th>operation</th>\n",
       "    </tr>\n",
       "  </thead>\n",
       "  <tbody>\n",
       "    <tr>\n",
       "      <th>0</th>\n",
       "      <td>4913</td>\n",
       "      <td>2014-12-01</td>\n",
       "      <td>1</td>\n",
       "    </tr>\n",
       "    <tr>\n",
       "      <th>1</th>\n",
       "      <td>4913</td>\n",
       "      <td>2014-12-07</td>\n",
       "      <td>2</td>\n",
       "    </tr>\n",
       "    <tr>\n",
       "      <th>2</th>\n",
       "      <td>4913</td>\n",
       "      <td>2014-12-11</td>\n",
       "      <td>1</td>\n",
       "    </tr>\n",
       "    <tr>\n",
       "      <th>3</th>\n",
       "      <td>4913</td>\n",
       "      <td>2014-12-13</td>\n",
       "      <td>1</td>\n",
       "    </tr>\n",
       "    <tr>\n",
       "      <th>4</th>\n",
       "      <td>4913</td>\n",
       "      <td>2014-12-16</td>\n",
       "      <td>1</td>\n",
       "    </tr>\n",
       "    <tr>\n",
       "      <th>...</th>\n",
       "      <td>...</td>\n",
       "      <td>...</td>\n",
       "      <td>...</td>\n",
       "    </tr>\n",
       "    <tr>\n",
       "      <th>49196</th>\n",
       "      <td>142455899</td>\n",
       "      <td>2014-11-24</td>\n",
       "      <td>1</td>\n",
       "    </tr>\n",
       "    <tr>\n",
       "      <th>49197</th>\n",
       "      <td>142455899</td>\n",
       "      <td>2014-11-26</td>\n",
       "      <td>2</td>\n",
       "    </tr>\n",
       "    <tr>\n",
       "      <th>49198</th>\n",
       "      <td>142455899</td>\n",
       "      <td>2014-11-30</td>\n",
       "      <td>1</td>\n",
       "    </tr>\n",
       "    <tr>\n",
       "      <th>49199</th>\n",
       "      <td>142455899</td>\n",
       "      <td>2014-12-03</td>\n",
       "      <td>1</td>\n",
       "    </tr>\n",
       "    <tr>\n",
       "      <th>49200</th>\n",
       "      <td>142455899</td>\n",
       "      <td>2014-12-04</td>\n",
       "      <td>2</td>\n",
       "    </tr>\n",
       "  </tbody>\n",
       "</table>\n",
       "<p>49201 rows × 3 columns</p>\n",
       "</div>"
      ],
      "text/plain": [
       "         user_id       date  operation\n",
       "0           4913 2014-12-01          1\n",
       "1           4913 2014-12-07          2\n",
       "2           4913 2014-12-11          1\n",
       "3           4913 2014-12-13          1\n",
       "4           4913 2014-12-16          1\n",
       "...          ...        ...        ...\n",
       "49196  142455899 2014-11-24          1\n",
       "49197  142455899 2014-11-26          2\n",
       "49198  142455899 2014-11-30          1\n",
       "49199  142455899 2014-12-03          1\n",
       "49200  142455899 2014-12-04          2\n",
       "\n",
       "[49201 rows x 3 columns]"
      ]
     },
     "execution_count": 24,
     "metadata": {},
     "output_type": "execute_result"
    }
   ],
   "source": [
    "#所有复购时间间隔消费次数分布\n",
    "data_day_buy=data_user[data_user.behavior_type==4].groupby(['user_id','date']).operation.count().reset_index()\n",
    "data_day_buy"
   ]
  },
  {
   "cell_type": "code",
   "execution_count": 25,
   "id": "51643ac9",
   "metadata": {},
   "outputs": [
    {
     "data": {
      "text/plain": [
       "user_id         \n",
       "4913       1        6\n",
       "           2        4\n",
       "           3        2\n",
       "           4        3\n",
       "7528       7        4\n",
       "                   ..\n",
       "142455899  49196    2\n",
       "           49197    2\n",
       "           49198    4\n",
       "           49199    3\n",
       "           49200    1\n",
       "Name: date, Length: 40315, dtype: int64"
      ]
     },
     "execution_count": 25,
     "metadata": {},
     "output_type": "execute_result"
    }
   ],
   "source": [
    "# 对date做一阶差分diff（1）并排序差分值\n",
    "# 对每一个days都这样做，然后再按照值加起来\n",
    "data_user_buy4=data_day_buy.groupby('user_id').date.apply(lambda x:x.sort_values().diff(1).dropna())\n",
    "data_user_buy4=data_user_buy4.map(lambda x:x.days)\n",
    "data_user_buy4"
   ]
  },
  {
   "cell_type": "code",
   "execution_count": 26,
   "id": "3e04cc21",
   "metadata": {},
   "outputs": [
    {
     "data": {
      "text/plain": [
       "Text(0, 0.5, 'gap_count')"
      ]
     },
     "execution_count": 26,
     "metadata": {},
     "output_type": "execute_result"
    },
    {
     "data": {
      "image/png": "[encoded data removed]",
      "text/plain": [
       "<Figure size 432x288 with 1 Axes>"
      ]
     },
     "metadata": {
      "needs_background": "light"
     },
     "output_type": "display_data"
    }
   ],
   "source": [
    "data_user_buy4.value_counts().plot(kind='bar')\n",
    "plt.title('time_gap')\n",
    "plt.xlabel('gap_day')\n",
    "plt.ylabel('gap_count')"
   ]
  },
  {
   "cell_type": "markdown",
   "id": "1276675a",
   "metadata": {},
   "source": [
    "多数用户复购率为0.4693，消费次数随着消费时间间隔的增加而不断下降，在1-10天之内复购次数比较多，10天之后复购次数淘宝用户很少在进行复购，因此需要重视10天之内的淘宝用户复购行为，增加用户复购。不同用户平均复购时间呈正态分布，但是总体来看，呈现逐渐下降趋势。多数淘宝用户平均复购时间集中在1-5天时间间隔内。\n",
    "\n"
   ]
  },
  {
   "cell_type": "markdown",
   "id": "6018bf7d",
   "metadata": {},
   "source": [
    "# 九、漏斗流失分析\n",
    "* 漏斗分析是一套流程式数据分析，它能够科学反映用户行为状态以及从起点到终点各阶段用户转化率情况的重要分析模型。"
   ]
  },
  {
   "cell_type": "code",
   "execution_count": 27,
   "id": "1465a897",
   "metadata": {
    "scrolled": true
   },
   "outputs": [
    {
     "data": {
      "text/html": [
       "<div>\n",
       "<style scoped>\n",
       "    .dataframe tbody tr th:only-of-type {\n",
       "        vertical-align: middle;\n",
       "    }\n",
       "\n",
       "    .dataframe tbody tr th {\n",
       "        vertical-align: top;\n",
       "    }\n",
       "\n",
       "    .dataframe thead th {\n",
       "        text-align: right;\n",
       "    }\n",
       "</style>\n",
       "<table border=\"1\" class=\"dataframe\">\n",
       "  <thead>\n",
       "    <tr style=\"text-align: right;\">\n",
       "      <th></th>\n",
       "      <th>user_id</th>\n",
       "      <th>item_id</th>\n",
       "      <th>user_geohash</th>\n",
       "      <th>item_category</th>\n",
       "      <th>time</th>\n",
       "      <th>date</th>\n",
       "      <th>hour</th>\n",
       "      <th>operation</th>\n",
       "    </tr>\n",
       "    <tr>\n",
       "      <th>behavior_type</th>\n",
       "      <th></th>\n",
       "      <th></th>\n",
       "      <th></th>\n",
       "      <th></th>\n",
       "      <th></th>\n",
       "      <th></th>\n",
       "      <th></th>\n",
       "      <th></th>\n",
       "    </tr>\n",
       "  </thead>\n",
       "  <tbody>\n",
       "    <tr>\n",
       "      <th>1</th>\n",
       "      <td>11550581</td>\n",
       "      <td>11550581</td>\n",
       "      <td>3704666</td>\n",
       "      <td>11550581</td>\n",
       "      <td>11550581</td>\n",
       "      <td>11550581</td>\n",
       "      <td>11550581</td>\n",
       "      <td>11550581</td>\n",
       "    </tr>\n",
       "    <tr>\n",
       "      <th>2</th>\n",
       "      <td>242556</td>\n",
       "      <td>242556</td>\n",
       "      <td>74365</td>\n",
       "      <td>242556</td>\n",
       "      <td>242556</td>\n",
       "      <td>242556</td>\n",
       "      <td>242556</td>\n",
       "      <td>242556</td>\n",
       "    </tr>\n",
       "    <tr>\n",
       "      <th>3</th>\n",
       "      <td>343564</td>\n",
       "      <td>343564</td>\n",
       "      <td>104443</td>\n",
       "      <td>343564</td>\n",
       "      <td>343564</td>\n",
       "      <td>343564</td>\n",
       "      <td>343564</td>\n",
       "      <td>343564</td>\n",
       "    </tr>\n",
       "    <tr>\n",
       "      <th>4</th>\n",
       "      <td>120205</td>\n",
       "      <td>120205</td>\n",
       "      <td>38608</td>\n",
       "      <td>120205</td>\n",
       "      <td>120205</td>\n",
       "      <td>120205</td>\n",
       "      <td>120205</td>\n",
       "      <td>120205</td>\n",
       "    </tr>\n",
       "  </tbody>\n",
       "</table>\n",
       "</div>"
      ],
      "text/plain": [
       "                user_id   item_id  user_geohash  item_category      time  \\\n",
       "behavior_type                                                              \n",
       "1              11550581  11550581       3704666       11550581  11550581   \n",
       "2                242556    242556         74365         242556    242556   \n",
       "3                343564    343564        104443         343564    343564   \n",
       "4                120205    120205         38608         120205    120205   \n",
       "\n",
       "                   date      hour  operation  \n",
       "behavior_type                                 \n",
       "1              11550581  11550581   11550581  \n",
       "2                242556    242556     242556  \n",
       "3                343564    343564     343564  \n",
       "4                120205    120205     120205  "
      ]
     },
     "execution_count": 27,
     "metadata": {},
     "output_type": "execute_result"
    }
   ],
   "source": [
    "data_user_count=data_user.groupby(['behavior_type']).count()\n",
    "data_user_count.head()"
   ]
  },
  {
   "cell_type": "code",
   "execution_count": 28,
   "id": "76e3db4f",
   "metadata": {},
   "outputs": [
    {
     "data": {
      "text/plain": [
       "12256906"
      ]
     },
     "execution_count": 28,
     "metadata": {},
     "output_type": "execute_result"
    }
   ],
   "source": [
    "pv_all=data_user['user_id'].count()\n",
    "pv_all\n",
    "# 注意count()是对这一个指标求和（比如不重复的id多少个，也就是人数）\n",
    "# 然而value_counts是按值求和，也就是这一列"
   ]
  },
  {
   "cell_type": "markdown",
   "id": "c8dda231",
   "metadata": {},
   "source": [
    "# 十、用户行为与商品种类关系分析"
   ]
  },
  {
   "cell_type": "code",
   "execution_count": 29,
   "id": "68c6a0a4",
   "metadata": {},
   "outputs": [
    {
     "data": {
      "text/html": [
       "<div>\n",
       "<style scoped>\n",
       "    .dataframe tbody tr th:only-of-type {\n",
       "        vertical-align: middle;\n",
       "    }\n",
       "\n",
       "    .dataframe tbody tr th {\n",
       "        vertical-align: top;\n",
       "    }\n",
       "\n",
       "    .dataframe thead th {\n",
       "        text-align: right;\n",
       "    }\n",
       "</style>\n",
       "<table border=\"1\" class=\"dataframe\">\n",
       "  <thead>\n",
       "    <tr style=\"text-align: right;\">\n",
       "      <th>behavior_type</th>\n",
       "      <th>点击量</th>\n",
       "      <th>加入购物车量</th>\n",
       "      <th>购买量</th>\n",
       "    </tr>\n",
       "    <tr>\n",
       "      <th>item_category</th>\n",
       "      <th></th>\n",
       "      <th></th>\n",
       "      <th></th>\n",
       "    </tr>\n",
       "  </thead>\n",
       "  <tbody>\n",
       "    <tr>\n",
       "      <th>2</th>\n",
       "      <td>3.0</td>\n",
       "      <td>0.0</td>\n",
       "      <td>0.0</td>\n",
       "    </tr>\n",
       "    <tr>\n",
       "      <th>3</th>\n",
       "      <td>3.0</td>\n",
       "      <td>0.0</td>\n",
       "      <td>0.0</td>\n",
       "    </tr>\n",
       "    <tr>\n",
       "      <th>4</th>\n",
       "      <td>1.0</td>\n",
       "      <td>0.0</td>\n",
       "      <td>0.0</td>\n",
       "    </tr>\n",
       "    <tr>\n",
       "      <th>6</th>\n",
       "      <td>10.0</td>\n",
       "      <td>0.0</td>\n",
       "      <td>0.0</td>\n",
       "    </tr>\n",
       "    <tr>\n",
       "      <th>8</th>\n",
       "      <td>976.0</td>\n",
       "      <td>4.0</td>\n",
       "      <td>4.0</td>\n",
       "    </tr>\n",
       "  </tbody>\n",
       "</table>\n",
       "</div>"
      ],
      "text/plain": [
       "behavior_type    点击量  加入购物车量  购买量\n",
       "item_category                    \n",
       "2                3.0     0.0  0.0\n",
       "3                3.0     0.0  0.0\n",
       "4                1.0     0.0  0.0\n",
       "6               10.0     0.0  0.0\n",
       "8              976.0     4.0  4.0"
      ]
     },
     "execution_count": 29,
     "metadata": {},
     "output_type": "execute_result"
    }
   ],
   "source": [
    "#不同用户行为类别的转化率\n",
    "data_category=data_user[data_user.behavior_type!=2].groupby(['item_category','behavior_type']).operation.count().unstack(1).rename(columns={1:'点击量',3:'加入购物车量',4:'购买量'}).fillna(0)\n",
    "data_category.head()"
   ]
  },
  {
   "cell_type": "code",
   "execution_count": 30,
   "id": "26fa2f08",
   "metadata": {},
   "outputs": [
    {
     "data": {
      "text/plain": [
       "item_category  behavior_type\n",
       "2              1                    3\n",
       "3              1                    3\n",
       "4              1                    1\n",
       "6              1                   10\n",
       "8              1                  976\n",
       "                                ...  \n",
       "14079          1                93007\n",
       "               3                 2515\n",
       "               4                  479\n",
       "14080          1                   86\n",
       "               3                    1\n",
       "Name: operation, Length: 19012, dtype: int64"
      ]
     },
     "execution_count": 30,
     "metadata": {},
     "output_type": "execute_result"
    }
   ],
   "source": [
    "data_user[data_user.behavior_type!=2].groupby(['item_category','behavior_type']).operation.count()"
   ]
  },
  {
   "cell_type": "code",
   "execution_count": 31,
   "id": "20bb43c5",
   "metadata": {},
   "outputs": [
    {
     "data": {
      "text/html": [
       "<div>\n",
       "<style scoped>\n",
       "    .dataframe tbody tr th:only-of-type {\n",
       "        vertical-align: middle;\n",
       "    }\n",
       "\n",
       "    .dataframe tbody tr th {\n",
       "        vertical-align: top;\n",
       "    }\n",
       "\n",
       "    .dataframe thead th {\n",
       "        text-align: right;\n",
       "    }\n",
       "</style>\n",
       "<table border=\"1\" class=\"dataframe\">\n",
       "  <thead>\n",
       "    <tr style=\"text-align: right;\">\n",
       "      <th>behavior_type</th>\n",
       "      <th>点击量</th>\n",
       "      <th>加入购物车量</th>\n",
       "      <th>购买量</th>\n",
       "    </tr>\n",
       "    <tr>\n",
       "      <th>item_category</th>\n",
       "      <th></th>\n",
       "      <th></th>\n",
       "      <th></th>\n",
       "    </tr>\n",
       "  </thead>\n",
       "  <tbody>\n",
       "    <tr>\n",
       "      <th>2</th>\n",
       "      <td>3.0</td>\n",
       "      <td>0.0</td>\n",
       "      <td>0.0</td>\n",
       "    </tr>\n",
       "    <tr>\n",
       "      <th>3</th>\n",
       "      <td>3.0</td>\n",
       "      <td>0.0</td>\n",
       "      <td>0.0</td>\n",
       "    </tr>\n",
       "    <tr>\n",
       "      <th>4</th>\n",
       "      <td>1.0</td>\n",
       "      <td>0.0</td>\n",
       "      <td>0.0</td>\n",
       "    </tr>\n",
       "    <tr>\n",
       "      <th>6</th>\n",
       "      <td>10.0</td>\n",
       "      <td>0.0</td>\n",
       "      <td>0.0</td>\n",
       "    </tr>\n",
       "    <tr>\n",
       "      <th>8</th>\n",
       "      <td>976.0</td>\n",
       "      <td>4.0</td>\n",
       "      <td>4.0</td>\n",
       "    </tr>\n",
       "  </tbody>\n",
       "</table>\n",
       "</div>"
      ],
      "text/plain": [
       "behavior_type    点击量  加入购物车量  购买量\n",
       "item_category                    \n",
       "2                3.0     0.0  0.0\n",
       "3                3.0     0.0  0.0\n",
       "4                1.0     0.0  0.0\n",
       "6               10.0     0.0  0.0\n",
       "8              976.0     4.0  4.0"
      ]
     },
     "execution_count": 31,
     "metadata": {},
     "output_type": "execute_result"
    }
   ],
   "source": [
    "#不同用户行为类别的转化率\n",
    "data_category=data_user[data_user.behavior_type!=2].groupby(['item_category','behavior_type']).operation.count().unstack(1).rename(columns={1:'点击量',3:'加入购物车量',4:'购买量'}).fillna(0)\n",
    "data_category.head()"
   ]
  },
  {
   "cell_type": "code",
   "execution_count": null,
   "id": "c48f0378",
   "metadata": {},
   "outputs": [],
   "source": []
  }
 ],
 "metadata": {
  "kernelspec": {
   "display_name": "Python 3 (ipykernel)",
   "language": "python",
   "name": "python3"
  },
  "language_info": {
   "codemirror_mode": {
    "name": "ipython",
    "version": 3
   },
   "file_extension": ".py",
   "mimetype": "text/x-python",
   "name": "python",
   "nbconvert_exporter": "python",
   "pygments_lexer": "ipython3",
   "version": "3.9.7"
  }
 },
 "nbformat": 4,
 "nbformat_minor": 5
}
